{
 "cells": [
  {
   "cell_type": "markdown",
   "id": "a0cf3212",
   "metadata": {},
   "source": [
    "# Selenium en Python - Automatizacion de navegación web\n",
    "\n",
    "**Drivers**\n",
    "* https://chromedriver.chromium.org/\n",
    "* https://github.com/mozilla/geckodriver/releases"
   ]
  },
  {
   "cell_type": "markdown",
   "id": "919a60fb",
   "metadata": {},
   "source": [
    "# Instalar selenium en python"
   ]
  },
  {
   "cell_type": "code",
   "execution_count": null,
   "id": "1400b415",
   "metadata": {},
   "outputs": [],
   "source": [
    "# !pip install selenium requests"
   ]
  },
  {
   "cell_type": "markdown",
   "id": "08fe18c1",
   "metadata": {},
   "source": [
    "# Descargar Driver"
   ]
  },
  {
   "cell_type": "code",
   "execution_count": null,
   "id": "1ae7500d",
   "metadata": {},
   "outputs": [],
   "source": [
    "import requests\n",
    "import zipfile\n",
    "import os\n",
    "\n",
    "chrome_driver_version = '100.0.4896.60'\n",
    "chrome_driver_file = 'chromedriver'\n",
    "chrome_driver_file_zip = 'chromedriver_linux64.zip'\n",
    "url_chrome_driver = f'https://chromedriver.storage.googleapis.com/{chrome_driver_version}/{chrome_driver_file_zip}'\n",
    "\n",
    "file = requests.get(url_chrome_driver, allow_redirects=True)\n",
    "open(chrome_driver_file_zip, 'wb').write(file.content)\n",
    "\n",
    "with zipfile.ZipFile(chrome_driver_file_zip, 'r') as zip_ref:\n",
    "    zip_ref.extractall('.')\n",
    "    chrome_driver_file = zip_ref.namelist()[0]\n",
    "    \n",
    "os.remove(chrome_driver_file_zip)\n",
    "os.chmod(chrome_driver_file, 0o775)"
   ]
  },
  {
   "cell_type": "markdown",
   "id": "94ab8421",
   "metadata": {},
   "source": [
    "# Iniciar Selnium"
   ]
  },
  {
   "cell_type": "code",
   "execution_count": null,
   "id": "a2bed572",
   "metadata": {},
   "outputs": [],
   "source": [
    "from selenium import webdriver"
   ]
  },
  {
   "cell_type": "code",
   "execution_count": null,
   "id": "60103d88",
   "metadata": {},
   "outputs": [],
   "source": [
    "driver = webdriver.Chrome(chrome_driver_file)\n",
    "driver.get('https://aprendecomputacion.es')"
   ]
  },
  {
   "cell_type": "markdown",
   "id": "7cbca85b",
   "metadata": {},
   "source": [
    "# Proyecto"
   ]
  },
  {
   "cell_type": "code",
   "execution_count": null,
   "id": "74456a92",
   "metadata": {},
   "outputs": [],
   "source": []
  },
  {
   "cell_type": "markdown",
   "id": "cfd5e1be",
   "metadata": {},
   "source": [
    "# Cerrar sesion"
   ]
  },
  {
   "cell_type": "code",
   "execution_count": null,
   "id": "e4bff4dd",
   "metadata": {},
   "outputs": [],
   "source": [
    "driver.close()"
   ]
  }
 ],
 "metadata": {
  "kernelspec": {
   "display_name": "Python 3 (ipykernel)",
   "language": "python",
   "name": "python3"
  },
  "language_info": {
   "codemirror_mode": {
    "name": "ipython",
    "version": 3
   },
   "file_extension": ".py",
   "mimetype": "text/x-python",
   "name": "python",
   "nbconvert_exporter": "python",
   "pygments_lexer": "ipython3",
   "version": "3.9.7"
  }
 },
 "nbformat": 4,
 "nbformat_minor": 5
}
